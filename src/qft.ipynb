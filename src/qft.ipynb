{
 "cells": [
  {
   "attachments": {},
   "cell_type": "markdown",
   "metadata": {},
   "source": [
    "首先进行 qiskit 环境的搭建，笔者的运行环境为 Python 3.10.6, x86 Ubuntu 22.04 (on Windows Subsystem for Linux)。需要使用的基本宏包为 IBM qiskit。"
   ]
  },
  {
   "cell_type": "code",
   "execution_count": 1,
   "metadata": {},
   "outputs": [],
   "source": [
    "# importing Qiskit\n",
    "from qiskit import QuantumRegister, ClassicalRegister, QuantumCircuit\n",
    "from math import pi"
   ]
  },
  {
   "attachments": {},
   "cell_type": "markdown",
   "metadata": {},
   "source": [
    "在完成基本环境配置以后，可以按照算法搭建 QFT 的量子电路，下面定义了函数 qft(n) 以实现 n 量子比特的量子傅里叶变换。"
   ]
  },
  {
   "cell_type": "code",
   "execution_count": 2,
   "metadata": {},
   "outputs": [],
   "source": [
    "def qft(n):\n",
    "    quantum = QuantumRegister(n)\n",
    "    classical = ClassicalRegister(n)\n",
    "    circuit = QuantumCircuit(quantum, classical)  # Build a quantum circuit\n",
    "    for j in range(n):\n",
    "        for k in range(j):\n",
    "            circuit.cp(pi / float(2 ** (j - k)), quantum[j], quantum[k]) # Setting quantum gates\n",
    "        circuit.h(quantum[j])\n",
    "    for i in range(n):\n",
    "        circuit.measure(quantum[i], classical[i])\n",
    "    return circuit\n"
   ]
  },
  {
   "cell_type": "markdown",
   "metadata": {},
   "source": [
    "qft 函数的返回值即为一个 n 量子比特的量子电路，下面以 3 量子比特为例输出其量子电路："
   ]
  },
  {
   "cell_type": "code",
   "execution_count": 3,
   "metadata": {},
   "outputs": [
    {
     "data": {
      "text/html": [
       "<pre style=\"word-wrap: normal;white-space: pre;background: #fff0;line-height: 1.1;font-family: &quot;Courier New&quot;,Courier,monospace\">      ┌───┐                                ┌─┐           \n",
       "q0_0: ┤ H ├─■─────────────■────────────────┤M├───────────\n",
       "      └───┘ │P(π/2) ┌───┐ │                └╥┘     ┌─┐   \n",
       "q0_1: ──────■───────┤ H ├─┼────────■────────╫──────┤M├───\n",
       "                    └───┘ │P(π/4)  │P(π/2)  ║ ┌───┐└╥┘┌─┐\n",
       "q0_2: ────────────────────■────────■────────╫─┤ H ├─╫─┤M├\n",
       "                                            ║ └───┘ ║ └╥┘\n",
       "c0: 3/══════════════════════════════════════╩═══════╩══╩═\n",
       "                                            0       1  2 </pre>"
      ],
      "text/plain": [
       "      ┌───┐                                ┌─┐           \n",
       "q0_0: ┤ H ├─■─────────────■────────────────┤M├───────────\n",
       "      └───┘ │P(π/2) ┌───┐ │                └╥┘     ┌─┐   \n",
       "q0_1: ──────■───────┤ H ├─┼────────■────────╫──────┤M├───\n",
       "                    └───┘ │P(π/4)  │P(π/2)  ║ ┌───┐└╥┘┌─┐\n",
       "q0_2: ────────────────────■────────■────────╫─┤ H ├─╫─┤M├\n",
       "                                            ║ └───┘ ║ └╥┘\n",
       "c0: 3/══════════════════════════════════════╩═══════╩══╩═\n",
       "                                            0       1  2 "
      ]
     },
     "execution_count": 3,
     "metadata": {},
     "output_type": "execute_result"
    }
   ],
   "source": [
    "from qiskit.tools.visualization import circuit_drawer\n",
    "circuit_drawer(qft(3))"
   ]
  }
 ],
 "metadata": {
  "kernelspec": {
   "display_name": "Python 3",
   "language": "python",
   "name": "python3"
  },
  "language_info": {
   "codemirror_mode": {
    "name": "ipython",
    "version": 3
   },
   "file_extension": ".py",
   "mimetype": "text/x-python",
   "name": "python",
   "nbconvert_exporter": "python",
   "pygments_lexer": "ipython3",
   "version": "3.10.6"
  },
  "orig_nbformat": 4
 },
 "nbformat": 4,
 "nbformat_minor": 2
}
